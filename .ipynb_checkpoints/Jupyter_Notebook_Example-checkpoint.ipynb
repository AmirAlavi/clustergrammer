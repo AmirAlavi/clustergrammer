{
 "cells": [
  {
   "cell_type": "markdown",
   "metadata": {},
   "source": [
    "# Jupyer Notebook Clustergrammer Iframe Example\n",
    "\n",
    "Upload a file to the clustergrammer web app and Iframe the visualization. "
   ]
  },
  {
   "cell_type": "code",
   "execution_count": 9,
   "metadata": {
    "collapsed": false
   },
   "outputs": [
    {
     "data": {
      "text/html": [
       "\n",
       "        <iframe\n",
       "            width=\"1000\"\n",
       "            height=\"800\"\n",
       "            src=\"http://amp.pharm.mssm.edu/clustergrammer/viz/5737cfc7cd39861429d9b089/rc_two_cats.txt\"\n",
       "            frameborder=\"0\"\n",
       "            allowfullscreen\n",
       "        ></iframe>\n",
       "        "
      ],
      "text/plain": [
       "<IPython.lib.display.IFrame at 0x1060d6f90>"
      ]
     },
     "metadata": {},
     "output_type": "display_data"
    },
    {
     "name": "stdout",
     "output_type": "stream",
     "text": [
      "http://amp.pharm.mssm.edu/clustergrammer/viz/5737cfc7cd39861429d9b089/rc_two_cats.txt\n"
     ]
    }
   ],
   "source": [
    "from clustergrammer import Network\n",
    "from copy import deepcopy\n",
    "net = deepcopy(Network())\n",
    "link = net.Iframe_web_app('txt/rc_two_cats.txt')\n",
    "print(link)"
   ]
  },
  {
   "cell_type": "markdown",
   "metadata": {},
   "source": [
    "Or upload a file from the Network object to the web app and Iframe the visualization "
   ]
  },
  {
   "cell_type": "code",
   "execution_count": 8,
   "metadata": {
    "collapsed": false
   },
   "outputs": [
    {
     "data": {
      "text/html": [
       "\n",
       "        <iframe\n",
       "            width=\"1000\"\n",
       "            height=\"800\"\n",
       "            src=\"http://amp.pharm.mssm.edu/clustergrammer/viz/5737d142a6ea1d087a9b7932/rc_two_cats.txt\"\n",
       "            frameborder=\"0\"\n",
       "            allowfullscreen\n",
       "        ></iframe>\n",
       "        "
      ],
      "text/plain": [
       "<IPython.lib.display.IFrame at 0x1060d6e50>"
      ]
     },
     "metadata": {},
     "output_type": "display_data"
    },
    {
     "name": "stdout",
     "output_type": "stream",
     "text": [
      "http://amp.pharm.mssm.edu/clustergrammer/viz/5737d142a6ea1d087a9b7932/rc_two_cats.txt\n"
     ]
    }
   ],
   "source": [
    "net_2 = deepcopy(Network())\n",
    "net_2.load_file('txt/rc_two_cats.txt')\n",
    "link_2 = net_2.Iframe_web_app()\n",
    "print(link_2)"
   ]
  },
  {
   "cell_type": "code",
   "execution_count": null,
   "metadata": {
    "collapsed": true
   },
   "outputs": [],
   "source": []
  }
 ],
 "metadata": {
  "kernelspec": {
   "display_name": "Python 2",
   "language": "python",
   "name": "python2"
  },
  "language_info": {
   "codemirror_mode": {
    "name": "ipython",
    "version": 2
   },
   "file_extension": ".py",
   "mimetype": "text/x-python",
   "name": "python",
   "nbconvert_exporter": "python",
   "pygments_lexer": "ipython2",
   "version": "2.7.11"
  }
 },
 "nbformat": 4,
 "nbformat_minor": 0
}
