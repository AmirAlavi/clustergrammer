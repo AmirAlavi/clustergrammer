{
 "cells": [
  {
   "cell_type": "markdown",
   "metadata": {},
   "source": [
    "# Jupyer Notebook Clustergrammer Iframe Example"
   ]
  },
  {
   "cell_type": "code",
   "execution_count": 2,
   "metadata": {
    "collapsed": false
   },
   "outputs": [
    {
     "data": {
      "text/html": [
       "\n",
       "        <iframe\n",
       "            width=\"1000\"\n",
       "            height=\"800\"\n",
       "            src=\"http://amp.pharm.mssm.edu/clustergrammer/viz/5737cf609c82a41331580b98/rc_two_cats.txt\"\n",
       "            frameborder=\"0\"\n",
       "            allowfullscreen\n",
       "        ></iframe>\n",
       "        "
      ],
      "text/plain": [
       "<IPython.lib.display.IFrame at 0x1060d6d90>"
      ]
     },
     "metadata": {},
     "output_type": "display_data"
    },
    {
     "name": "stdout",
     "output_type": "stream",
     "text": [
      "http://amp.pharm.mssm.edu/clustergrammer/viz/5737cf609c82a41331580b98/rc_two_cats.txt\n"
     ]
    }
   ],
   "source": [
    "from clustergrammer import Network\n",
    "from copy import deepcopy\n",
    "net = deepcopy(Network())\n",
    "link = net.Iframe_web_app('txt/rc_two_cats.txt')\n",
    "print(link)"
   ]
  },
  {
   "cell_type": "code",
   "execution_count": 3,
   "metadata": {
    "collapsed": false
   },
   "outputs": [
    {
     "data": {
      "text/html": [
       "\n",
       "        <iframe\n",
       "            width=\"1000\"\n",
       "            height=\"800\"\n",
       "            src=\"http://amp.pharm.mssm.edu/clustergrammer/viz/5737cf869c82a41331580ba0/rc_two_cats.txt\"\n",
       "            frameborder=\"0\"\n",
       "            allowfullscreen\n",
       "        ></iframe>\n",
       "        "
      ],
      "text/plain": [
       "<IPython.lib.display.IFrame at 0x10a734c90>"
      ]
     },
     "metadata": {},
     "output_type": "display_data"
    },
    {
     "name": "stdout",
     "output_type": "stream",
     "text": [
      "http://amp.pharm.mssm.edu/clustergrammer/viz/5737cf869c82a41331580ba0/rc_two_cats.txt\n"
     ]
    }
   ],
   "source": [
    "net_2 = deepcopy(Network())\n",
    "net_2.load_file('txt/rc_two_cats.txt')\n",
    "link_2 = net_2.Iframe_web_app()\n",
    "print(link_2)"
   ]
  },
  {
   "cell_type": "code",
   "execution_count": null,
   "metadata": {
    "collapsed": true
   },
   "outputs": [],
   "source": []
  }
 ],
 "metadata": {
  "kernelspec": {
   "display_name": "Python 2",
   "language": "python",
   "name": "python2"
  },
  "language_info": {
   "codemirror_mode": {
    "name": "ipython",
    "version": 2
   },
   "file_extension": ".py",
   "mimetype": "text/x-python",
   "name": "python",
   "nbconvert_exporter": "python",
   "pygments_lexer": "ipython2",
   "version": "2.7.11"
  }
 },
 "nbformat": 4,
 "nbformat_minor": 0
}
